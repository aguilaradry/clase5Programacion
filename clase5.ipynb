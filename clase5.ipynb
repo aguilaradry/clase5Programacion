{
  "nbformat": 4,
  "nbformat_minor": 0,
  "metadata": {
    "colab": {
      "provenance": [],
      "authorship_tag": "ABX9TyMKXeM8VFlSmkSWvZIatZL2",
      "include_colab_link": true
    },
    "kernelspec": {
      "name": "python3",
      "display_name": "Python 3"
    },
    "language_info": {
      "name": "python"
    }
  },
  "cells": [
    {
      "cell_type": "markdown",
      "metadata": {
        "id": "view-in-github",
        "colab_type": "text"
      },
      "source": [
        "<a href=\"https://colab.research.google.com/github/aguilaradry/clase5Programacion/blob/main/clase5.ipynb\" target=\"_parent\"><img src=\"https://colab.research.google.com/assets/colab-badge.svg\" alt=\"Open In Colab\"/></a>"
      ]
    },
    {
      "cell_type": "code",
      "execution_count": null,
      "metadata": {
        "colab": {
          "base_uri": "https://localhost:8080/"
        },
        "id": "cxBRqe8lsXT_",
        "outputId": "fc1581ea-e1e3-4f3f-c12f-1744e355a95e"
      },
      "outputs": [
        {
          "output_type": "stream",
          "name": "stdout",
          "text": [
            "Requirement already satisfied: GitPython in /usr/local/lib/python3.10/dist-packages (3.1.43)\n",
            "Requirement already satisfied: gitdb<5,>=4.0.1 in /usr/local/lib/python3.10/dist-packages (from GitPython) (4.0.11)\n",
            "Requirement already satisfied: smmap<6,>=3.0.1 in /usr/local/lib/python3.10/dist-packages (from gitdb<5,>=4.0.1->GitPython) (5.0.1)\n"
          ]
        }
      ],
      "source": [
        "\"\"\"Este notebook contiene el flujo de trabajo para interactuar con repositorios Git y realizar commits.\"\"\"\n",
        "\n",
        "!pip install GitPython\n"
      ]
    },
    {
      "cell_type": "code",
      "source": [
        "#importar librerías\n",
        "from git import Repo\n",
        "REPO_URL = \"https://github.com/aguilaradry/clase5Programacion\"\n",
        "\n",
        "#Donde lo vamos a ubicar\n",
        "LOCAL_REPO_PATH  = \"/content/Clase5\"\n",
        "\n",
        "try:\n",
        "    repo = Repo(LOCAL_REPO_PATH )\n",
        "    print(\"El repositorio ya existe\")\n",
        "    origin = repo.remotes.origin\n",
        "    origin.pull()\n",
        "except Exception as e:\n",
        "    print(f\"El repositorio ya está clonado {e}\")\n",
        "    repo = Repo.clone_from(REPO_URL, LOCAL_REPO_PATH )\n",
        "\n",
        "print(\"Simulado de los datos..\")\n",
        "\n",
        "with open(f\"{LOCAL_REPO_PATH }/new_file.txt\", \"w\", encoding=\"utf-8\") as f:\n",
        "    f.write(\"Este es un nuevo archivo creado en google colab.\")\n",
        "\n",
        "#confirmar cuando se haga cambio de los servicios\n",
        "repo.index.add([\"new_file.txt\"])\n",
        "repo.index.commit(\"Se agregó un nuevo archivo\")\n",
        "\n",
        "print(\"prueba\")\n",
        "# Conexión con Github Action\n",
        "print(\"Los cambios confirmados se realizaron localmente\")\n",
        "print(f\"Verifica tu repositorio: {REPO_URL}\")\n",
        "\n",
        "#Comandos\n"
      ],
      "metadata": {
        "colab": {
          "base_uri": "https://localhost:8080/"
        },
        "id": "n14X_3eksdGe",
        "outputId": "0dea3feb-f742-49d9-ee74-416046c7bb20"
      },
      "execution_count": null,
      "outputs": [
        {
          "output_type": "stream",
          "name": "stdout",
          "text": [
            "El repositorio ya está clonado\n",
            "Simulado de los datos\n",
            "Los cambios confirmados se realizaron localmente\n",
            "Verifica tu repositorio: https://github.com/aguilaradry/clase5Programacion\n"
          ]
        }
      ]
    },
    {
      "cell_type": "code",
      "source": [
        "!git clone https://github.com/aguilaradry/clase5Programacion.git"
      ],
      "metadata": {
        "colab": {
          "base_uri": "https://localhost:8080/"
        },
        "id": "l8kmMMIj4jzX",
        "outputId": "38faa5e7-adf9-49ed-ff2a-a016c45a260e"
      },
      "execution_count": null,
      "outputs": [
        {
          "output_type": "stream",
          "name": "stdout",
          "text": [
            "fatal: destination path 'clase5Programacion' already exists and is not an empty directory.\n"
          ]
        }
      ]
    },
    {
      "cell_type": "code",
      "source": [
        "!git clone https://github.com/aguilaradry/clase5Programacion.git clase5Programacion_v2"
      ],
      "metadata": {
        "colab": {
          "base_uri": "https://localhost:8080/"
        },
        "id": "8NRQvtWNGHNu",
        "outputId": "3c483eb5-ef5d-4622-aadb-f4801900f90e"
      },
      "execution_count": null,
      "outputs": [
        {
          "output_type": "stream",
          "name": "stdout",
          "text": [
            "Cloning into 'clase5Programacion_v2'...\n",
            "remote: Enumerating objects: 14, done.\u001b[K\n",
            "remote: Counting objects: 100% (14/14), done.\u001b[K\n",
            "remote: Compressing objects: 100% (14/14), done.\u001b[K\n",
            "remote: Total 14 (delta 4), reused 0 (delta 0), pack-reused 0 (from 0)\u001b[K\n",
            "Receiving objects: 100% (14/14), 14.56 KiB | 14.56 MiB/s, done.\n",
            "Resolving deltas: 100% (4/4), done.\n"
          ]
        }
      ]
    },
    {
      "cell_type": "code",
      "source": [
        "!git config --global user.name \"aguilaradry\"\n",
        "!git config --global user.email \"adriana.aguilar@est.iudigital.edu.co\""
      ],
      "metadata": {
        "id": "j12KGsHfHKmI"
      },
      "execution_count": null,
      "outputs": []
    },
    {
      "cell_type": "code",
      "source": [
        "#Verifica que la configuración se haya guardado correctamente:\n",
        "\n",
        "!git config --global --list"
      ],
      "metadata": {
        "colab": {
          "base_uri": "https://localhost:8080/"
        },
        "id": "crneZnJDHbSn",
        "outputId": "3eb15bee-1350-4be2-9ffe-8537b8e77ad8"
      },
      "execution_count": null,
      "outputs": [
        {
          "output_type": "stream",
          "name": "stdout",
          "text": [
            "user.name=aguilaradry\n",
            "user.email=adriana.aguilar@est.iudigital.edu.co\n"
          ]
        }
      ]
    },
    {
      "cell_type": "code",
      "source": [
        "%cd clase5Programacion_v2"
      ],
      "metadata": {
        "colab": {
          "base_uri": "https://localhost:8080/"
        },
        "id": "GVK6UgeLFsTs",
        "outputId": "e55fc6e4-b53f-4790-85ad-923daebfac42"
      },
      "execution_count": null,
      "outputs": [
        {
          "output_type": "stream",
          "name": "stdout",
          "text": [
            "[Errno 2] No such file or directory: 'clase5Programacion_v2'\n",
            "/content/clase5Programacion\n"
          ]
        }
      ]
    },
    {
      "cell_type": "code",
      "source": [
        "#crear rama y cambiarse\n",
        "!git checkout -b adriana2\n"
      ],
      "metadata": {
        "colab": {
          "base_uri": "https://localhost:8080/"
        },
        "id": "T8DJOFgpA4FP",
        "outputId": "f6d4899d-d87a-4256-bc70-b6597331190f"
      },
      "execution_count": null,
      "outputs": [
        {
          "output_type": "stream",
          "name": "stdout",
          "text": [
            "fatal: A branch named 'adriana2' already exists.\n"
          ]
        }
      ]
    },
    {
      "cell_type": "code",
      "source": [
        "# si existe la rama cambiarse\n",
        "!git checkout -b adriana2"
      ],
      "metadata": {
        "colab": {
          "base_uri": "https://localhost:8080/"
        },
        "id": "2Wr7Le9_AwO_",
        "outputId": "93540863-a434-4e13-8b6f-b045a276950c"
      },
      "execution_count": null,
      "outputs": [
        {
          "output_type": "stream",
          "name": "stdout",
          "text": [
            "fatal: A branch named 'adriana2' already exists.\n"
          ]
        }
      ]
    },
    {
      "cell_type": "code",
      "source": [
        "#añadir cambios a git\n",
        "!git add ."
      ],
      "metadata": {
        "id": "L4UsHLZyBP2Y"
      },
      "execution_count": null,
      "outputs": []
    },
    {
      "cell_type": "code",
      "source": [
        "#hacer commit\n",
        "!git commit -m \"Comandos de github\""
      ],
      "metadata": {
        "colab": {
          "base_uri": "https://localhost:8080/"
        },
        "id": "yvS8UeLZBGNh",
        "outputId": "f0825e04-9d1d-41b4-9463-a9f145d32a8a"
      },
      "execution_count": null,
      "outputs": [
        {
          "output_type": "stream",
          "name": "stdout",
          "text": [
            "On branch adriana2\n",
            "nothing to commit, working tree clean\n"
          ]
        }
      ]
    },
    {
      "cell_type": "code",
      "source": [
        "#revisar modificados:\n",
        "\n",
        "!ls -l"
      ],
      "metadata": {
        "colab": {
          "base_uri": "https://localhost:8080/"
        },
        "id": "fLoo2C4qHsGY",
        "outputId": "52918e0b-b060-4ae8-e816-8e34bf334305"
      },
      "execution_count": null,
      "outputs": [
        {
          "output_type": "stream",
          "name": "stdout",
          "text": [
            "total 32\n",
            "-rw-r--r-- 1 root root  3472 Nov 13 00:18 Clase5.ipynb\n",
            "-rw-r--r-- 1 root root 26526 Nov 13 00:18 LICENSE\n"
          ]
        }
      ]
    },
    {
      "cell_type": "code",
      "source": [
        "!git status"
      ],
      "metadata": {
        "colab": {
          "base_uri": "https://localhost:8080/"
        },
        "id": "kUsTxLZlHzVF",
        "outputId": "e7b62def-cac8-4369-fd26-9190d4e7a95e"
      },
      "execution_count": null,
      "outputs": [
        {
          "output_type": "stream",
          "name": "stdout",
          "text": [
            "On branch adriana2\n",
            "nothing to commit, working tree clean\n"
          ]
        }
      ]
    },
    {
      "cell_type": "code",
      "source": [
        "#subir cambios a la rama remota\n",
        "!git push origin adriana2"
      ],
      "metadata": {
        "id": "zFcuwQE0BYO5"
      },
      "execution_count": null,
      "outputs": []
    },
    {
      "cell_type": "code",
      "source": [
        "#Si ya habías subido la rama anteriormente, usa:\n",
        "!git push"
      ],
      "metadata": {
        "id": "kwqrsoPMBeZY"
      },
      "execution_count": null,
      "outputs": []
    },
    {
      "cell_type": "code",
      "source": [
        "#Realizar el merge con la rama principal\n",
        "#Cambiar a la rama principal (generalmente main o master):\n",
        "!git checkout main"
      ],
      "metadata": {
        "id": "jz7bDPp_BmpO"
      },
      "execution_count": null,
      "outputs": []
    },
    {
      "cell_type": "code",
      "source": [
        "#Obtener los últimos cambios de la rama principal\n",
        "!git pull origin main"
      ],
      "metadata": {
        "id": "0ZXVO6iRBvIS"
      },
      "execution_count": null,
      "outputs": []
    },
    {
      "cell_type": "code",
      "source": [
        "#Hacer el merge de la rama de trabajo a la principal:\n",
        "!git merge nueva-rama"
      ],
      "metadata": {
        "id": "2Edl4sKHB4nz"
      },
      "execution_count": null,
      "outputs": []
    },
    {
      "cell_type": "code",
      "source": [
        "#Subir el merge a GitHub:\n",
        "!git push origin main"
      ],
      "metadata": {
        "id": "Wt7mkmi0B9u7"
      },
      "execution_count": null,
      "outputs": []
    },
    {
      "cell_type": "code",
      "source": [
        "!git diff"
      ],
      "metadata": {
        "id": "Tua8RNG8JFFk"
      },
      "execution_count": null,
      "outputs": []
    }
  ]
}