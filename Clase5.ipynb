{
  "nbformat": 4,
  "nbformat_minor": 0,
  "metadata": {
    "colab": {
      "provenance": [],
      "authorship_tag": "ABX9TyNhsVHyAaxQHt7lcnnlGJM1",
      "include_colab_link": true
    },
    "kernelspec": {
      "name": "python3",
      "display_name": "Python 3"
    },
    "language_info": {
      "name": "python"
    }
  },
  "cells": [
    {
      "cell_type": "markdown",
      "metadata": {
        "id": "view-in-github",
        "colab_type": "text"
      },
      "source": [
        "<a href=\"https://colab.research.google.com/github/aguilaradry/clase5Programacion/blob/main/Clase5.ipynb\" target=\"_parent\"><img src=\"https://colab.research.google.com/assets/colab-badge.svg\" alt=\"Open In Colab\"/></a>"
      ]
    },
    {
      "cell_type": "code",
      "execution_count": 1,
      "metadata": {
        "colab": {
          "base_uri": "https://localhost:8080/"
        },
        "id": "cxBRqe8lsXT_",
        "outputId": "fc1581ea-e1e3-4f3f-c12f-1744e355a95e"
      },
      "outputs": [
        {
          "output_type": "stream",
          "name": "stdout",
          "text": [
            "Requirement already satisfied: GitPython in /usr/local/lib/python3.10/dist-packages (3.1.43)\n",
            "Requirement already satisfied: gitdb<5,>=4.0.1 in /usr/local/lib/python3.10/dist-packages (from GitPython) (4.0.11)\n",
            "Requirement already satisfied: smmap<6,>=3.0.1 in /usr/local/lib/python3.10/dist-packages (from gitdb<5,>=4.0.1->GitPython) (5.0.1)\n"
          ]
        }
      ],
      "source": [
        "!pip install GitPython\n"
      ]
    },
    {
      "cell_type": "code",
      "source": [
        "from git import Repo\n",
        "Repo_url = \"https://github.com/aguilaradry/clase5Programacion\"\n",
        "\n",
        "#Donde lo vamos a ubicar\n",
        "local_repo_path = \"/content/Clase5\"\n",
        "\n",
        "try:\n",
        "    repo = Repo(local_repo_path)\n",
        "    print(\"El repositorio ya existe\")\n",
        "    origin = repo.remotes.origin\n",
        "    origin.pull()\n",
        "except:\n",
        "    print(\"El repositorio ya está clonado\")\n",
        "    repo = Repo.clone_from(Repo_url, local_repo_path)\n",
        "\n",
        "print(\"Simulado de los datos\")\n",
        "\n",
        "with open(f\"{local_repo_path}/new_file.txt\", \"w\") as f:\n",
        "    f.write(\"Este es un nuevo archivo creado en google colab\")\n",
        "\n",
        "#confirmar cuando se haga cambio de los servicios\n",
        "repo.index.add([\"new_file.txt\"])\n",
        "repo.index.commit(\"Se agregó un nuevo archivo\")\n",
        "\n",
        "\n",
        "# Conexión con Github Action\n",
        "print(\"Los cambios confirmados se realizaron localmente\")\n",
        "print(f\"Verifica tu repositorio: {Repo_url}\")\n"
      ],
      "metadata": {
        "colab": {
          "base_uri": "https://localhost:8080/"
        },
        "id": "n14X_3eksdGe",
        "outputId": "0dea3feb-f742-49d9-ee74-416046c7bb20"
      },
      "execution_count": 2,
      "outputs": [
        {
          "output_type": "stream",
          "name": "stdout",
          "text": [
            "El repositorio ya está clonado\n",
            "Simulado de los datos\n",
            "Los cambios confirmados se realizaron localmente\n",
            "Verifica tu repositorio: https://github.com/aguilaradry/clase5Programacion\n"
          ]
        }
      ]
    }
  ]
}