{
  "nbformat": 4,
  "nbformat_minor": 0,
  "metadata": {
    "colab": {
      "provenance": [],
      "authorship_tag": "ABX9TyMz8SVX8Aq8tD8JWeCyj3SJ",
      "include_colab_link": true
    },
    "kernelspec": {
      "name": "python3",
      "display_name": "Python 3"
    },
    "language_info": {
      "name": "python"
    }
  },
  "cells": [
    {
      "cell_type": "markdown",
      "metadata": {
        "id": "view-in-github",
        "colab_type": "text"
      },
      "source": [
        "<a href=\"https://colab.research.google.com/github/aguilaradry/clase5Programacion/blob/main/clase5_1.ipynb\" target=\"_parent\"><img src=\"https://colab.research.google.com/assets/colab-badge.svg\" alt=\"Open In Colab\"/></a>"
      ]
    },
    {
      "cell_type": "code",
      "source": [
        "\"\"\"\n",
        "Este notebook realiza operaciones.\n",
        "\"\"\"\n",
        "\n",
        "# Resto del código\n",
        "from git import Repo"
      ],
      "metadata": {
        "id": "sEO2PgNtdEzO"
      },
      "execution_count": null,
      "outputs": []
    }
  ]
}